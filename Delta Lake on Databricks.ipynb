{
 "cells": [
  {
   "cell_type": "code",
   "execution_count": 0,
   "metadata": {
    "application/vnd.databricks.v1+cell": {
     "cellMetadata": {
      "byteLimit": 2048000,
      "rowLimit": 10000
     },
     "inputWidgets": {},
     "nuid": "160c6f02-30cd-4114-bf4b-3fedb2751e38",
     "showTitle": false,
     "tableResultSettingsMap": {},
     "title": ""
    }
   },
   "outputs": [],
   "source": [
    "spark.conf.set(\"spark.hadoop.google.cloud.auth.service.account.enable\", \"true\")\n",
    "spark.conf.set(\"spark.hadoop.fs.gs.auth.service.account.email\", \"databricks-compute@calcium-field-455700-p2.iam.gserviceaccount.com\")\n",
    "spark.conf.set(\"spark.hadoop.fs.gs.project.id\", \"calcium-field-455700-p2\")\n",
    "spark.conf.set(\"spark.hadoop.fs.gs.auth.service.account.private.key\", \"MIIEvgIBADANBgkqhkiG9w0BAQEFAASCBKgwggSkAgEAAoIBAQDHj4/0mF191m/B\\nI7ftge8vA7zyOeHhiA/2KzT98kP4CQCP63N/12wGbv9P7OOi9gMGTMJTeeVW9FJ9\\nRLjFXB/7e0YxsIYh9l8Z+QlLwZSIPPVQ9EuazpJHte9hFBmLo1iTpB1diJpWIP8g\\nOCQMmt2lWOlJXgFnGkNOThO1RcE3/n9CPO/LmUhTcDHDRccN9YmiIiZFDcalN1gI\\n6/+HLfd0LsOWhYaHc1dBx5u9Mnb1IHg5idyaMiTjFWYBhrFmSRQhdAFbDsPozWV+\\n+IuTflEgib6xwdLgckXGCbWMzKVFCFGzmXk6pDZXUtbFEOeiieTScSy+qAc58aDX\\nVsCsHFyBAgMBAAECggEADtkMgsxB24KkkLwbu5sI7Oh0KtkZ6HX/Swdys0jO3BHu\\nZebksnC4p79jNWMImle/yJyWMlAN22MFDq856KxGsGc/BSQvTLBYKdZsxcNOzfas\\nIXR1uhxPx7BekcxlLK2wAdcqfKq04f7lQJRQwVPV9S8Y92WcSNusQZOfVYPNwSDH\\nmilIjXBQq4R2GNly1Bzq0iv4RkjObP5XhRnCjaoIglQVqSG26ueN9eCbhL62P2Ly\\nIazrhHQeSztMaNwD+Ar6ffEWDxLxKwjWsEAGPcdhiyErrOGTVuBUwKkuGTQBmPqE\\nlADoLJr5h96ykAYyQ3Ch3A/2KS6wkaBZ0J/EN8m6OQKBgQDnZCdX/7V6lnVQY/xm\\nPDaqlnnRxX07rn0fwMN6WeLUaH0XdOZHY/KjE10zqKwnAIpIs/PSJXtMYY7bLJNy\\nYN9KxWcebI7EHDmPcJ8FFXWogrFyph4jOgfqc+QstzH5N11aFhkrpNmHuAv0BeeA\\nAZw/VsEKpJ1MKtQsDfyHpe5myQKBgQDcyMt1EZW+FrJiTd+qTc/A8469Icmc+bgS\\nu9eOWU3iU32KLaNdh8R2jI8YziexfXB01Fqosx4JNv1I8RTUUtJcDPyayYoZdcfE\\nb/oKR4gbXOWYtqWz0DJzKBja59sWeR4a2UEb8EF4j6i5bh6vpVgF+3vvj+776DWu\\nieNPdXHL+QKBgQCVbf1me/Fj6FR8hQWTtGENSz4CdUpJx4Zwghj7I58z0wKtqkWo\\nZuhj3fZ7jPsX+OZUyzmzRZdZnUsXSbMy01KAQ/kzEaIlDaEye+WF7/TazQPxaUvf\\nLfO8ufjp06jHK7Tyn4DDyaLdXcMCZOm6pc+Uq97gk6wtax84EBQ8ObE62QKBgQCH\\nNJgUGy6+eBvJw7LDEl+14/F3tWdIME0fe9UnoVzmywZIRmaS8n/HsZA4OpdoRE9H\\n3HugcABm2DwIHUsKM6YLJRDUobNmoBA0JfbTsLaTOzKHcOLM2STsDJQcCnzKqGVd\\nP8p1l44gjKlg1SUJn5HmJ/nf3R8XOT8Woe6ITH3h0QKBgBwOhU3P4zoBSahNzVC6\\nk1AC2nKKJI72DaNZUYTSTLwmGrt5ADOfMAZQypF31lVPYnP6DFFlTNLihsvrX65K\\nFc6yZmIOV2yXfIfAfQjOovz5RpAGikZOxbRKkrtghOl9WgjynJOiZ/wu//brrSEG\\nBJ9nIPJ3fmYDQze4Y+8nkYDB\")\n",
    "spark.conf.set(\"spark.hadoop.fs.gs.auth.service.account.private.key.id\", \"cc792d2f8ef8022756e4bdf8e1f3c2105aa4ec1c\")"
   ]
  },
  {
   "cell_type": "markdown",
   "metadata": {
    "application/vnd.databricks.v1+cell": {
     "cellMetadata": {},
     "inputWidgets": {},
     "nuid": "12b7e4dd-6a12-4f0c-8a8d-d7687afa329f",
     "showTitle": false,
     "tableResultSettingsMap": {},
     "title": ""
    }
   },
   "source": [
    "Step 1: Read Data from Orders.CSV"
   ]
  },
  {
   "cell_type": "code",
   "execution_count": 0,
   "metadata": {
    "application/vnd.databricks.v1+cell": {
     "cellMetadata": {
      "byteLimit": 2048000,
      "rowLimit": 10000
     },
     "inputWidgets": {},
     "nuid": "3ee832e6-287e-4abe-adc5-b2dd424b0050",
     "showTitle": false,
     "tableResultSettingsMap": {},
     "title": ""
    }
   },
   "outputs": [
    {
     "output_type": "stream",
     "name": "stdout",
     "output_type": "stream",
     "text": [
      "+-------+----------+----------+---------+-----------+--------+---------+----------+\n|OrderID|CustomerID| OrderDate|ProductID|ProductName|Quantity|UnitPrice|TotalPrice|\n+-------+----------+----------+---------+-----------+--------+---------+----------+\n|      1|      1001|2025-01-01|        1|     Laptop|       2|     1000|      2000|\n|      2|      1002|2025-01-02|        2| Smartphone|       3|      800|      2400|\n|      3|      1003|2025-01-03|        1|     Laptop|       1|     1000|      1000|\n|      4|      1001|2025-01-04|        3| Headphones|       2|       50|       100|\n|      5|      1002|2025-01-05|        1|     Laptop|       2|     1000|      2000|\n|      6|      1003|2025-02-01|        2| Smartphone|       4|      800|      3200|\n|      7|      1001|2025-02-02|        1|     Laptop|       1|     1000|      1000|\n|      8|      1002|2025-02-03|        3| Headphones|       1|       50|        50|\n|      9|      1003|2025-05-23|        2| Smartphone|       2|      800|      1600|\n|     10|      1001|2025-02-05|        1|     Laptop|       3|     1000|      3000|\n+-------+----------+----------+---------+-----------+--------+---------+----------+\n\n"
     ]
    }
   ],
   "source": [
    "df = spark.read.csv(\"gs://heart_raw-bronze/Orders.csv\", header=True, inferSchema=True)\n",
    "df.show(25)\n",
    "\n"
   ]
  },
  {
   "cell_type": "markdown",
   "metadata": {
    "application/vnd.databricks.v1+cell": {
     "cellMetadata": {},
     "inputWidgets": {},
     "nuid": "3339ef8f-a83f-44f8-9954-ba985f580698",
     "showTitle": false,
     "tableResultSettingsMap": {},
     "title": ""
    }
   },
   "source": [
    "Step 2: Add Ingestion Timestamp Column"
   ]
  },
  {
   "cell_type": "code",
   "execution_count": 0,
   "metadata": {
    "application/vnd.databricks.v1+cell": {
     "cellMetadata": {
      "byteLimit": 2048000,
      "rowLimit": 10000
     },
     "inputWidgets": {},
     "nuid": "3255c728-ad34-4390-8ad2-64864c7652df",
     "showTitle": false,
     "tableResultSettingsMap": {},
     "title": ""
    }
   },
   "outputs": [
    {
     "output_type": "stream",
     "name": "stdout",
     "output_type": "stream",
     "text": [
      "+-------+----------+----------+---------+-----------+--------+---------+----------+--------------------+\n|OrderID|CustomerID| OrderDate|ProductID|ProductName|Quantity|UnitPrice|TotalPrice| ingestion_timestamp|\n+-------+----------+----------+---------+-----------+--------+---------+----------+--------------------+\n|      1|      1001|2025-01-01|        1|     Laptop|       2|     1000|      2000|2025-05-26 22:38:...|\n|      2|      1002|2025-01-02|        2| Smartphone|       3|      800|      2400|2025-05-26 22:38:...|\n|      3|      1003|2025-01-03|        1|     Laptop|       1|     1000|      1000|2025-05-26 22:38:...|\n|      4|      1001|2025-01-04|        3| Headphones|       2|       50|       100|2025-05-26 22:38:...|\n|      5|      1002|2025-01-05|        1|     Laptop|       2|     1000|      2000|2025-05-26 22:38:...|\n|      6|      1003|2025-02-01|        2| Smartphone|       4|      800|      3200|2025-05-26 22:38:...|\n|      7|      1001|2025-02-02|        1|     Laptop|       1|     1000|      1000|2025-05-26 22:38:...|\n|      8|      1002|2025-02-03|        3| Headphones|       1|       50|        50|2025-05-26 22:38:...|\n|      9|      1003|2025-05-23|        2| Smartphone|       2|      800|      1600|2025-05-26 22:38:...|\n|     10|      1001|2025-02-05|        1|     Laptop|       3|     1000|      3000|2025-05-26 22:38:...|\n+-------+----------+----------+---------+-----------+--------+---------+----------+--------------------+\n\n"
     ]
    }
   ],
   "source": [
    "from pyspark.sql.functions import current_timestamp\n",
    "\n",
    "df = df.withColumn(\"ingestion_timestamp\", current_timestamp())\n",
    "df.show(25)"
   ]
  },
  {
   "cell_type": "markdown",
   "metadata": {
    "application/vnd.databricks.v1+cell": {
     "cellMetadata": {},
     "inputWidgets": {},
     "nuid": "bbf60619-4ca0-41a2-a3cf-44b48932c431",
     "showTitle": false,
     "tableResultSettingsMap": {},
     "title": ""
    }
   },
   "source": [
    "Step 3: Write to Delta Format (Day 1 - Initial Load)"
   ]
  },
  {
   "cell_type": "code",
   "execution_count": 0,
   "metadata": {
    "application/vnd.databricks.v1+cell": {
     "cellMetadata": {
      "byteLimit": 2048000,
      "rowLimit": 10000
     },
     "inputWidgets": {},
     "nuid": "ebb4599d-6bcd-4acf-ab7d-4260dd6c742e",
     "showTitle": false,
     "tableResultSettingsMap": {},
     "title": ""
    }
   },
   "outputs": [],
   "source": [
    "df.write.format(\"delta\").mode(\"overwrite\").save(\"gs://heart_raw-bronze/delta/sales\")\n"
   ]
  },
  {
   "cell_type": "markdown",
   "metadata": {
    "application/vnd.databricks.v1+cell": {
     "cellMetadata": {},
     "inputWidgets": {},
     "nuid": "96492485-b601-4625-9c36-b56e4659b967",
     "showTitle": false,
     "tableResultSettingsMap": {},
     "title": ""
    }
   },
   "source": [
    "Step 4: Upsert Using Delta Merge (Day 2 - Incremental Load)"
   ]
  },
  {
   "cell_type": "code",
   "execution_count": 0,
   "metadata": {
    "application/vnd.databricks.v1+cell": {
     "cellMetadata": {
      "byteLimit": 2048000,
      "rowLimit": 10000
     },
     "inputWidgets": {},
     "nuid": "4de89b62-fc2f-45b5-bea9-7b34a14a9f7f",
     "showTitle": false,
     "tableResultSettingsMap": {},
     "title": ""
    }
   },
   "outputs": [
    {
     "output_type": "execute_result",
     "data": {
      "text/plain": [
       "DataFrame[num_affected_rows: bigint, num_updated_rows: bigint, num_deleted_rows: bigint, num_inserted_rows: bigint]"
      ]
     },
     "execution_count": 8,
     "metadata": {},
     "output_type": "execute_result"
    }
   ],
   "source": [
    "from delta.tables import DeltaTable\n",
    "\n",
    "existing_data = DeltaTable.forPath(spark, \"gs://heart_raw-bronze/delta/sales\")\n",
    "\n",
    "existing_data.alias(\"existing\").merge(\n",
    "    df.alias(\"new\"),\n",
    "    \"existing.OrderID = new.OrderID\"\n",
    ").whenMatchedUpdateAll() \\\n",
    " .whenNotMatchedInsertAll() \\\n",
    " .execute()"
   ]
  },
  {
   "cell_type": "markdown",
   "metadata": {
    "application/vnd.databricks.v1+cell": {
     "cellMetadata": {},
     "inputWidgets": {},
     "nuid": "d276a3e7-5e30-4264-a870-da0d0a0342c3",
     "showTitle": false,
     "tableResultSettingsMap": {},
     "title": ""
    }
   },
   "source": [
    "Validate the Delta Table"
   ]
  },
  {
   "cell_type": "code",
   "execution_count": 0,
   "metadata": {
    "application/vnd.databricks.v1+cell": {
     "cellMetadata": {
      "byteLimit": 2048000,
      "rowLimit": 10000
     },
     "inputWidgets": {},
     "nuid": "9ab81a46-a920-444a-8119-2a8a1e7fda45",
     "showTitle": false,
     "tableResultSettingsMap": {},
     "title": ""
    }
   },
   "outputs": [
    {
     "output_type": "stream",
     "name": "stdout",
     "output_type": "stream",
     "text": [
      "+-------+----------+----------+---------+-----------+--------+---------+----------+--------------------+\n|OrderID|CustomerID| OrderDate|ProductID|ProductName|Quantity|UnitPrice|TotalPrice| ingestion_timestamp|\n+-------+----------+----------+---------+-----------+--------+---------+----------+--------------------+\n|      1|      1001|2025-01-01|        1|     Laptop|       2|     1000|      2000|2025-05-26 22:40:...|\n|      2|      1002|2025-01-02|        2| Smartphone|       3|      800|      2400|2025-05-26 22:40:...|\n|      3|      1003|2025-01-03|        1|     Laptop|       1|     1000|      1000|2025-05-26 22:40:...|\n|      4|      1001|2025-01-04|        3| Headphones|       2|       50|       100|2025-05-26 22:40:...|\n|      5|      1002|2025-01-05|        1|     Laptop|       2|     1000|      2000|2025-05-26 22:40:...|\n|      6|      1003|2025-02-01|        2| Smartphone|       4|      800|      3200|2025-05-26 22:40:...|\n|      7|      1001|2025-02-02|        1|     Laptop|       1|     1000|      1000|2025-05-26 22:40:...|\n|      8|      1002|2025-02-03|        3| Headphones|       1|       50|        50|2025-05-26 22:40:...|\n|      9|      1003|2025-05-23|        2| Smartphone|       2|      800|      1600|2025-05-26 22:40:...|\n|     10|      1001|2025-02-05|        1|     Laptop|       3|     1000|      3000|2025-05-26 22:40:...|\n+-------+----------+----------+---------+-----------+--------+---------+----------+--------------------+\n\n"
     ]
    }
   ],
   "source": [
    "spark.read.format(\"delta\").load(\"gs://heart_raw-bronze/delta/sales\").show()"
   ]
  },
  {
   "cell_type": "markdown",
   "metadata": {
    "application/vnd.databricks.v1+cell": {
     "cellMetadata": {},
     "inputWidgets": {},
     "nuid": "85ef0ce5-c325-4b9d-be9c-5ee406554c99",
     "showTitle": false,
     "tableResultSettingsMap": {},
     "title": ""
    }
   },
   "source": [
    "Update Subset of Columns"
   ]
  },
  {
   "cell_type": "code",
   "execution_count": 0,
   "metadata": {
    "application/vnd.databricks.v1+cell": {
     "cellMetadata": {
      "byteLimit": 2048000,
      "rowLimit": 10000
     },
     "inputWidgets": {},
     "nuid": "08ac7efc-8d99-4840-a7fa-401b45230d5c",
     "showTitle": false,
     "tableResultSettingsMap": {},
     "title": ""
    }
   },
   "outputs": [
    {
     "output_type": "execute_result",
     "data": {
      "text/plain": [
       "DataFrame[num_affected_rows: bigint, num_updated_rows: bigint, num_deleted_rows: bigint, num_inserted_rows: bigint]"
      ]
     },
     "execution_count": 21,
     "metadata": {},
     "output_type": "execute_result"
    }
   ],
   "source": [
    "from delta.tables import DeltaTable\n",
    "\n",
    "# Load the existing Delta table\n",
    "delta_table = DeltaTable.forPath(spark, \"gs://heart_raw-bronze/delta/sales\")\n",
    "\n",
    "# Update only selected columns: Quantity and TotalPrice\n",
    "delta_table.alias(\"target\").merge(\n",
    "    df.alias(\"source\"),\n",
    "    \"target.OrderID = source.OrderID\"\n",
    ").whenMatchedUpdate(\n",
    "    set={\n",
    "        \"Quantity\": \"source.Quantity\",\n",
    "        \"TotalPrice\": \"source.TotalPrice\"\n",
    "    }\n",
    ").whenNotMatchedInsertAll() \\\n",
    " .execute()\n",
    "\n",
    " "
   ]
  },
  {
   "cell_type": "markdown",
   "metadata": {
    "application/vnd.databricks.v1+cell": {
     "cellMetadata": {},
     "inputWidgets": {},
     "nuid": "e8203ef7-b346-4bc0-afc7-d301195d933c",
     "showTitle": false,
     "tableResultSettingsMap": {},
     "title": ""
    }
   },
   "source": [
    "Enable Delta Table History"
   ]
  },
  {
   "cell_type": "code",
   "execution_count": 0,
   "metadata": {
    "application/vnd.databricks.v1+cell": {
     "cellMetadata": {
      "byteLimit": 2048000,
      "rowLimit": 10000
     },
     "inputWidgets": {},
     "nuid": "162fc343-1b4f-43e4-94be-fb355d534d08",
     "showTitle": false,
     "tableResultSettingsMap": {},
     "title": ""
    }
   },
   "outputs": [
    {
     "output_type": "stream",
     "name": "stdout",
     "output_type": "stream",
     "text": [
      "+-------+--------------------+----------------+--------------------+---------+--------------------+----+------------------+--------------------+-----------+-----------------+-------------+--------------------+------------+--------------------+\n|version|           timestamp|          userId|            userName|operation| operationParameters| job|          notebook|           clusterId|readVersion|   isolationLevel|isBlindAppend|    operationMetrics|userMetadata|          engineInfo|\n+-------+--------------------+----------------+--------------------+---------+--------------------+----+------------------+--------------------+-----------+-----------------+-------------+--------------------+------------+--------------------+\n|      4|2025-05-26 23:04:...|3760938142330225|sakinasherin8@gma...|    MERGE|{predicate -> [\"(...|NULL|{1576664809931565}|5522-232003-tmoh66q0|          3|WriteSerializable|        false|{numTargetRowsCop...|        NULL|Databricks-Runtim...|\n|      3|2025-05-26 22:51:...|3760938142330225|sakinasherin8@gma...|    MERGE|{predicate -> [\"(...|NULL|{1576664809931565}|5522-232003-tmoh66q0|          2|WriteSerializable|        false|{numTargetRowsCop...|        NULL|Databricks-Runtim...|\n|      2|2025-05-26 22:45:...|3760938142330225|sakinasherin8@gma...|    MERGE|{predicate -> [\"(...|NULL|{1576664809931565}|5522-232003-tmoh66q0|          1|WriteSerializable|        false|{numTargetRowsCop...|        NULL|Databricks-Runtim...|\n|      1|2025-05-26 22:41:...|3760938142330225|sakinasherin8@gma...|    MERGE|{predicate -> [\"(...|NULL|{1576664809931565}|5522-232003-tmoh66q0|          0|WriteSerializable|        false|{numTargetRowsCop...|        NULL|Databricks-Runtim...|\n|      0|2025-05-26 22:40:...|3760938142330225|sakinasherin8@gma...|    WRITE|{mode -> Overwrit...|NULL|{1576664809931565}|5522-232003-tmoh66q0|       NULL|WriteSerializable|        false|{numFiles -> 1, n...|        NULL|Databricks-Runtim...|\n+-------+--------------------+----------------+--------------------+---------+--------------------+----+------------------+--------------------+-----------+-----------------+-------------+--------------------+------------+--------------------+\n\n"
     ]
    }
   ],
   "source": [
    "from delta.tables import DeltaTable\n",
    "\n",
    "DeltaTable.forPath(spark, \"gs://heart_raw-bronze/delta/sales\").history().show()\n"
   ]
  },
  {
   "cell_type": "markdown",
   "metadata": {
    "application/vnd.databricks.v1+cell": {
     "cellMetadata": {},
     "inputWidgets": {},
     "nuid": "add3d1e7-e0e1-4874-994d-cd120f2899ae",
     "showTitle": false,
     "tableResultSettingsMap": {},
     "title": ""
    }
   },
   "source": [
    "Read Specific Version "
   ]
  },
  {
   "cell_type": "code",
   "execution_count": 0,
   "metadata": {
    "application/vnd.databricks.v1+cell": {
     "cellMetadata": {
      "byteLimit": 2048000,
      "rowLimit": 10000
     },
     "inputWidgets": {},
     "nuid": "55141738-cff6-44bf-b577-381d26dc4f2c",
     "showTitle": false,
     "tableResultSettingsMap": {},
     "title": ""
    }
   },
   "outputs": [
    {
     "output_type": "stream",
     "name": "stdout",
     "output_type": "stream",
     "text": [
      "+-------+----------+----------+---------+-----------+--------+---------+----------+--------------------+\n|OrderID|CustomerID| OrderDate|ProductID|ProductName|Quantity|UnitPrice|TotalPrice| ingestion_timestamp|\n+-------+----------+----------+---------+-----------+--------+---------+----------+--------------------+\n|      1|      1001|2025-01-01|        1|     Laptop|       2|     1000|      2000|2025-05-26 22:40:...|\n|      2|      1002|2025-01-02|        2| Smartphone|       3|      800|      2400|2025-05-26 22:40:...|\n|      3|      1003|2025-01-03|        1|     Laptop|       1|     1000|      1000|2025-05-26 22:40:...|\n|      4|      1001|2025-01-04|        3| Headphones|       2|       50|       100|2025-05-26 22:40:...|\n|      5|      1002|2025-01-05|        1|     Laptop|       2|     1000|      2000|2025-05-26 22:40:...|\n|      6|      1003|2025-02-01|        2| Smartphone|       4|      800|      3200|2025-05-26 22:40:...|\n|      7|      1001|2025-02-02|        1|     Laptop|       1|     1000|      1000|2025-05-26 22:40:...|\n|      8|      1002|2025-02-03|        3| Headphones|       1|       50|        50|2025-05-26 22:40:...|\n|      9|      1003|2025-05-23|        2| Smartphone|       2|      800|      1600|2025-05-26 22:40:...|\n|     10|      1001|2025-02-05|        1|     Laptop|       3|     1000|      3000|2025-05-26 22:40:...|\n+-------+----------+----------+---------+-----------+--------+---------+----------+--------------------+\n\n"
     ]
    }
   ],
   "source": [
    "spark.read.format(\"delta\") \\\n",
    "    .option(\"versionAsOf\", 0) \\\n",
    "    .load(\"gs://heart_raw-bronze/delta/sales\") \\\n",
    "    .show()\n"
   ]
  },
  {
   "cell_type": "markdown",
   "metadata": {
    "application/vnd.databricks.v1+cell": {
     "cellMetadata": {},
     "inputWidgets": {},
     "nuid": "27efb917-bb29-4de0-aeee-88625283116b",
     "showTitle": false,
     "tableResultSettingsMap": {},
     "title": ""
    }
   },
   "source": [
    "Read Specific Timestamp"
   ]
  },
  {
   "cell_type": "code",
   "execution_count": 0,
   "metadata": {
    "application/vnd.databricks.v1+cell": {
     "cellMetadata": {
      "byteLimit": 2048000,
      "rowLimit": 10000
     },
     "inputWidgets": {},
     "nuid": "b9dfc551-e1ba-47d9-9d0f-63b22472caa0",
     "showTitle": false,
     "tableResultSettingsMap": {},
     "title": ""
    }
   },
   "outputs": [
    {
     "output_type": "stream",
     "name": "stdout",
     "output_type": "stream",
     "text": [
      "+-------+----------+----------+---------+-----------+--------+---------+----------+--------------------+\n|OrderID|CustomerID| OrderDate|ProductID|ProductName|Quantity|UnitPrice|TotalPrice| ingestion_timestamp|\n+-------+----------+----------+---------+-----------+--------+---------+----------+--------------------+\n|      1|      1001|2025-01-01|        1|     Laptop|       2|     1000|      2000|2025-05-26 22:40:...|\n|      2|      1002|2025-01-02|        2| Smartphone|       3|      800|      2400|2025-05-26 22:40:...|\n|      3|      1003|2025-01-03|        1|     Laptop|       1|     1000|      1000|2025-05-26 22:40:...|\n|      4|      1001|2025-01-04|        3| Headphones|       2|       50|       100|2025-05-26 22:40:...|\n|      5|      1002|2025-01-05|        1|     Laptop|       2|     1000|      2000|2025-05-26 22:40:...|\n|      6|      1003|2025-02-01|        2| Smartphone|       4|      800|      3200|2025-05-26 22:40:...|\n|      7|      1001|2025-02-02|        1|     Laptop|       1|     1000|      1000|2025-05-26 22:40:...|\n|      8|      1002|2025-02-03|        3| Headphones|       1|       50|        50|2025-05-26 22:40:...|\n|      9|      1003|2025-05-23|        2| Smartphone|       2|      800|      1600|2025-05-26 22:40:...|\n|     10|      1001|2025-02-05|        1|     Laptop|       3|     1000|      3000|2025-05-26 22:40:...|\n+-------+----------+----------+---------+-----------+--------+---------+----------+--------------------+\n\n"
     ]
    }
   ],
   "source": [
    "spark.read.format(\"delta\") \\\n",
    "    .option(\"timestampAsOf\", \"2025-05-26T22:41:00\") \\\n",
    "    .load(\"gs://heart_raw-bronze/delta/sales\") \\\n",
    "    .show()\n"
   ]
  },
  {
   "cell_type": "markdown",
   "metadata": {
    "application/vnd.databricks.v1+cell": {
     "cellMetadata": {},
     "inputWidgets": {},
     "nuid": "b91b2d34-16f1-4b79-bc1e-bb659be107ec",
     "showTitle": false,
     "tableResultSettingsMap": {},
     "title": ""
    }
   },
   "source": [
    "Simulate Day 2 Incremental Load"
   ]
  },
  {
   "cell_type": "markdown",
   "metadata": {
    "application/vnd.databricks.v1+cell": {
     "cellMetadata": {},
     "inputWidgets": {},
     "nuid": "792688da-65e7-4bac-811d-85578e035d88",
     "showTitle": false,
     "tableResultSettingsMap": {},
     "title": ""
    }
   },
   "source": [
    "Step 1: Create a Day 2 DataFrame (with changes)"
   ]
  },
  {
   "cell_type": "code",
   "execution_count": 0,
   "metadata": {
    "application/vnd.databricks.v1+cell": {
     "cellMetadata": {
      "byteLimit": 2048000,
      "rowLimit": 10000
     },
     "inputWidgets": {},
     "nuid": "fb434f10-725f-44ce-b543-7d54b2818f20",
     "showTitle": false,
     "tableResultSettingsMap": {},
     "title": ""
    }
   },
   "outputs": [
    {
     "output_type": "stream",
     "name": "stdout",
     "output_type": "stream",
     "text": [
      "+-------+----------+----------+---------+-----------+--------+---------+----------+--------------------+\n|OrderID|CustomerID| OrderDate|ProductID|ProductName|Quantity|UnitPrice|TotalPrice| ingestion_timestamp|\n+-------+----------+----------+---------+-----------+--------+---------+----------+--------------------+\n|      2|      1002|2025-01-02|        2| Smartphone|       2|      800|      1600|2025-05-26 23:05:...|\n|     11|      1004|2025-02-10|        3| Headphones|       2|      100|       200|2025-05-26 23:05:...|\n+-------+----------+----------+---------+-----------+--------+---------+----------+--------------------+\n\n"
     ]
    }
   ],
   "source": [
    "from pyspark.sql import Row\n",
    "from pyspark.sql.functions import current_timestamp\n",
    "\n",
    "# Day 2 updated + new data\n",
    "day2_data = [\n",
    "    Row(OrderID=2, CustomerID=1002, OrderDate=\"2025-01-02\", ProductID=2, ProductName=\"Smartphone\", Quantity=2, UnitPrice=800, TotalPrice=1600),\n",
    "    Row(OrderID=11, CustomerID=1004, OrderDate=\"2025-02-10\", ProductID=3, ProductName=\"Headphones\", Quantity=2, UnitPrice=100, TotalPrice=200)\n",
    "]\n",
    "\n",
    "df_day2 = spark.createDataFrame(day2_data)\n",
    "\n",
    "# Add ingestion timestamp\n",
    "df_day2 = df_day2.withColumn(\"ingestion_timestamp\", current_timestamp())\n",
    "\n",
    "df_day2.show()\n"
   ]
  },
  {
   "cell_type": "markdown",
   "metadata": {
    "application/vnd.databricks.v1+cell": {
     "cellMetadata": {},
     "inputWidgets": {},
     "nuid": "0a093be5-9027-443e-b09f-f1534eecf1ce",
     "showTitle": false,
     "tableResultSettingsMap": {},
     "title": ""
    }
   },
   "source": [
    "Step 2: MERGE Day 2 Data into Delta Table"
   ]
  },
  {
   "cell_type": "code",
   "execution_count": 0,
   "metadata": {
    "application/vnd.databricks.v1+cell": {
     "cellMetadata": {
      "byteLimit": 2048000,
      "rowLimit": 10000
     },
     "inputWidgets": {},
     "nuid": "383482e0-cd1e-484a-8e0e-b8f1ec5f319b",
     "showTitle": false,
     "tableResultSettingsMap": {},
     "title": ""
    }
   },
   "outputs": [
    {
     "output_type": "execute_result",
     "data": {
      "text/plain": [
       "DataFrame[num_affected_rows: bigint, num_updated_rows: bigint, num_deleted_rows: bigint, num_inserted_rows: bigint]"
      ]
     },
     "execution_count": 26,
     "metadata": {},
     "output_type": "execute_result"
    }
   ],
   "source": [
    "from delta.tables import DeltaTable\n",
    "\n",
    "delta_table = DeltaTable.forPath(spark, \"gs://heart_raw-bronze/delta/sales\")\n",
    "\n",
    "delta_table.alias(\"target\").merge(\n",
    "    df_day2.alias(\"source\"),\n",
    "    \"target.OrderID = source.OrderID\"\n",
    ").whenMatchedUpdateAll() \\\n",
    " .whenNotMatchedInsertAll() \\\n",
    " .execute()\n"
   ]
  },
  {
   "cell_type": "markdown",
   "metadata": {
    "application/vnd.databricks.v1+cell": {
     "cellMetadata": {},
     "inputWidgets": {},
     "nuid": "4aec17d9-96ee-4c3b-a4d7-fe68570d8f91",
     "showTitle": false,
     "tableResultSettingsMap": {},
     "title": ""
    }
   },
   "source": [
    "Step 3: Check Delta Table History"
   ]
  },
  {
   "cell_type": "code",
   "execution_count": 0,
   "metadata": {
    "application/vnd.databricks.v1+cell": {
     "cellMetadata": {
      "byteLimit": 2048000,
      "rowLimit": 10000
     },
     "inputWidgets": {},
     "nuid": "030c1138-91f0-48ec-9117-d12fb20833af",
     "showTitle": false,
     "tableResultSettingsMap": {},
     "title": ""
    }
   },
   "outputs": [
    {
     "output_type": "stream",
     "name": "stdout",
     "output_type": "stream",
     "text": [
      "+-------+--------------------+----------------+--------------------+---------+--------------------+----+------------------+--------------------+-----------+-----------------+-------------+--------------------+------------+--------------------+\n|version|           timestamp|          userId|            userName|operation| operationParameters| job|          notebook|           clusterId|readVersion|   isolationLevel|isBlindAppend|    operationMetrics|userMetadata|          engineInfo|\n+-------+--------------------+----------------+--------------------+---------+--------------------+----+------------------+--------------------+-----------+-----------------+-------------+--------------------+------------+--------------------+\n|      5|2025-05-26 23:06:...|3760938142330225|sakinasherin8@gma...|    MERGE|{predicate -> [\"(...|NULL|{1576664809931565}|5522-232003-tmoh66q0|          4|WriteSerializable|        false|{numTargetRowsCop...|        NULL|Databricks-Runtim...|\n|      4|2025-05-26 23:04:...|3760938142330225|sakinasherin8@gma...|    MERGE|{predicate -> [\"(...|NULL|{1576664809931565}|5522-232003-tmoh66q0|          3|WriteSerializable|        false|{numTargetRowsCop...|        NULL|Databricks-Runtim...|\n|      3|2025-05-26 22:51:...|3760938142330225|sakinasherin8@gma...|    MERGE|{predicate -> [\"(...|NULL|{1576664809931565}|5522-232003-tmoh66q0|          2|WriteSerializable|        false|{numTargetRowsCop...|        NULL|Databricks-Runtim...|\n|      2|2025-05-26 22:45:...|3760938142330225|sakinasherin8@gma...|    MERGE|{predicate -> [\"(...|NULL|{1576664809931565}|5522-232003-tmoh66q0|          1|WriteSerializable|        false|{numTargetRowsCop...|        NULL|Databricks-Runtim...|\n|      1|2025-05-26 22:41:...|3760938142330225|sakinasherin8@gma...|    MERGE|{predicate -> [\"(...|NULL|{1576664809931565}|5522-232003-tmoh66q0|          0|WriteSerializable|        false|{numTargetRowsCop...|        NULL|Databricks-Runtim...|\n|      0|2025-05-26 22:40:...|3760938142330225|sakinasherin8@gma...|    WRITE|{mode -> Overwrit...|NULL|{1576664809931565}|5522-232003-tmoh66q0|       NULL|WriteSerializable|        false|{numFiles -> 1, n...|        NULL|Databricks-Runtim...|\n+-------+--------------------+----------------+--------------------+---------+--------------------+----+------------------+--------------------+-----------+-----------------+-------------+--------------------+------------+--------------------+\n\n"
     ]
    }
   ],
   "source": [
    "DeltaTable.forPath(spark, \"gs://heart_raw-bronze/delta/sales\").history().show()\n"
   ]
  },
  {
   "cell_type": "markdown",
   "metadata": {
    "application/vnd.databricks.v1+cell": {
     "cellMetadata": {},
     "inputWidgets": {},
     "nuid": "0f63fdaa-bc27-47fd-8bb4-3aee00cf4305",
     "showTitle": false,
     "tableResultSettingsMap": {},
     "title": ""
    }
   },
   "source": [
    "Step 4: Time Travel to Version 0 and 1"
   ]
  },
  {
   "cell_type": "code",
   "execution_count": 0,
   "metadata": {
    "application/vnd.databricks.v1+cell": {
     "cellMetadata": {
      "byteLimit": 2048000,
      "rowLimit": 10000
     },
     "inputWidgets": {},
     "nuid": "00b919b8-1547-4b7b-89dd-0f7dc423e2d6",
     "showTitle": false,
     "tableResultSettingsMap": {},
     "title": ""
    }
   },
   "outputs": [
    {
     "output_type": "stream",
     "name": "stdout",
     "output_type": "stream",
     "text": [
      "+-------+----------+----------+---------+-----------+--------+---------+----------+--------------------+\n|OrderID|CustomerID| OrderDate|ProductID|ProductName|Quantity|UnitPrice|TotalPrice| ingestion_timestamp|\n+-------+----------+----------+---------+-----------+--------+---------+----------+--------------------+\n|      1|      1001|2025-01-01|        1|     Laptop|       2|     1000|      2000|2025-05-26 22:40:...|\n|      2|      1002|2025-01-02|        2| Smartphone|       3|      800|      2400|2025-05-26 22:40:...|\n|      3|      1003|2025-01-03|        1|     Laptop|       1|     1000|      1000|2025-05-26 22:40:...|\n|      4|      1001|2025-01-04|        3| Headphones|       2|       50|       100|2025-05-26 22:40:...|\n|      5|      1002|2025-01-05|        1|     Laptop|       2|     1000|      2000|2025-05-26 22:40:...|\n|      6|      1003|2025-02-01|        2| Smartphone|       4|      800|      3200|2025-05-26 22:40:...|\n|      7|      1001|2025-02-02|        1|     Laptop|       1|     1000|      1000|2025-05-26 22:40:...|\n|      8|      1002|2025-02-03|        3| Headphones|       1|       50|        50|2025-05-26 22:40:...|\n|      9|      1003|2025-05-23|        2| Smartphone|       2|      800|      1600|2025-05-26 22:40:...|\n|     10|      1001|2025-02-05|        1|     Laptop|       3|     1000|      3000|2025-05-26 22:40:...|\n+-------+----------+----------+---------+-----------+--------+---------+----------+--------------------+\n\n+-------+----------+----------+---------+-----------+--------+---------+----------+--------------------+\n|OrderID|CustomerID| OrderDate|ProductID|ProductName|Quantity|UnitPrice|TotalPrice| ingestion_timestamp|\n+-------+----------+----------+---------+-----------+--------+---------+----------+--------------------+\n|      1|      1001|2025-01-01|        1|     Laptop|       2|     1000|      2000|2025-05-26 22:40:...|\n|      2|      1002|2025-01-02|        2| Smartphone|       3|      800|      2400|2025-05-26 22:40:...|\n|      3|      1003|2025-01-03|        1|     Laptop|       1|     1000|      1000|2025-05-26 22:40:...|\n|      4|      1001|2025-01-04|        3| Headphones|       2|       50|       100|2025-05-26 22:40:...|\n|      5|      1002|2025-01-05|        1|     Laptop|       2|     1000|      2000|2025-05-26 22:40:...|\n|      6|      1003|2025-02-01|        2| Smartphone|       4|      800|      3200|2025-05-26 22:40:...|\n|      7|      1001|2025-02-02|        1|     Laptop|       1|     1000|      1000|2025-05-26 22:40:...|\n|      8|      1002|2025-02-03|        3| Headphones|       1|       50|        50|2025-05-26 22:40:...|\n|      9|      1003|2025-05-23|        2| Smartphone|       2|      800|      1600|2025-05-26 22:40:...|\n|     10|      1001|2025-02-05|        1|     Laptop|       3|     1000|      3000|2025-05-26 22:40:...|\n+-------+----------+----------+---------+-----------+--------+---------+----------+--------------------+\n\n"
     ]
    }
   ],
   "source": [
    "# Version 0 - before Day 2\n",
    "spark.read.format(\"delta\").option(\"versionAsOf\", 0).load(\"gs://heart_raw-bronze/delta/sales\").show()\n",
    "\n",
    "# Version 1 - after Day 2 merge\n",
    "spark.read.format(\"delta\").option(\"versionAsOf\", 1).load(\"gs://heart_raw-bronze/delta/sales\").show()\n"
   ]
  },
  {
   "cell_type": "code",
   "execution_count": 0,
   "metadata": {
    "application/vnd.databricks.v1+cell": {
     "cellMetadata": {},
     "inputWidgets": {},
     "nuid": "64afccbe-e878-4a0d-b8e2-25bdded02723",
     "showTitle": false,
     "tableResultSettingsMap": {},
     "title": ""
    }
   },
   "outputs": [],
   "source": []
  }
 ],
 "metadata": {
  "application/vnd.databricks.v1+notebook": {
   "computePreferences": null,
   "dashboards": [],
   "environmentMetadata": {
    "base_environment": "",
    "environment_version": "2"
   },
   "inputWidgetPreferences": null,
   "language": "python",
   "notebookMetadata": {
    "pythonIndentUnit": 4
   },
   "notebookName": "Delta Lake on Databricks",
   "widgets": {}
  },
  "language_info": {
   "name": "python"
  }
 },
 "nbformat": 4,
 "nbformat_minor": 0
}